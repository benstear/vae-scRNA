{
 "cells": [
  {
   "cell_type": "code",
   "execution_count": 1,
   "metadata": {},
   "outputs": [
    {
     "name": "stderr",
     "output_type": "stream",
     "text": [
      "/Users/dawnstear/desktop/tensorflow_update/lib/python3.6/importlib/_bootstrap.py:219: RuntimeWarning: numpy.dtype size changed, may indicate binary incompatibility. Expected 96, got 88\n",
      "  return f(*args, **kwds)\n",
      "/Users/dawnstear/desktop/tensorflow_update/lib/python3.6/importlib/_bootstrap.py:219: RuntimeWarning: numpy.dtype size changed, may indicate binary incompatibility. Expected 96, got 88\n",
      "  return f(*args, **kwds)\n"
     ]
    }
   ],
   "source": [
    "# t-SNE and PCA plot metric and times\n",
    "from sklearn.manifold import TSNE\n",
    "from sklearn.decomposition import PCA\n",
    "import pandas as pd\n",
    "import numpy as np\n",
    "from matplotlib.pyplot import scatter, figure, subplot, savefig\n",
    "import matplotlib.pyplot as plt\n",
    "from sklearn.utils import shuffle\n",
    "import time\n",
    "import os\n"
   ]
  },
  {
   "cell_type": "code",
   "execution_count": 20,
   "metadata": {},
   "outputs": [
    {
     "name": "stdout",
     "output_type": "stream",
     "text": [
      "0.0002472400665283203\n"
     ]
    }
   ],
   "source": [
    "### Data Set: 13,313 single nucleus mouse brain \n",
    "# https://portals.broadinstitute.org/single_cell/study/dronc-seq-single-nucleus-rna-seq-on-mouse-archived-brain#study-download\n",
    "t = time.time()\n",
    "try: data13k, labels13k\n",
    "except:\n",
    "    data13k  =  pd.read_csv('/Users/dawnstear/desktop/Mid_Atlantic_Poster/sc_data/n_13313_singlenuc/Mouse_Processed_GTEx_Data.DGE.log-UMI-Counts.txt',sep='\\t')  \n",
    "    data13k = data13k.T\n",
    "    labels13k  =  pd.read_csv('/Users/dawnstear/desktop/Mid_Atlantic_Poster/sc_data/n_13313_singlenuc/metadata_singleNuc_13k.txt',sep='\\t')\n",
    "\n",
    "print(time.time()-t)\n",
    "\n",
    "#data13k.values[0:3][0:3] # includes gene names\n",
    "data13k_clipped = data13k.iloc[1:] # clip them off the top\n",
    "labels13k_clipped = labels13k.iloc[1:]  # drop first row, info not needed\n",
    "\n",
    "CELL_NAME = labels13k['NAME']   # check that cell BARCODE's match\n",
    "CLUSTER_NAME =labels13k['Cluster']\n",
    "CLUSTER_ID = labels13k['ClusterID']\n",
    "\n",
    "X = data13k_clipped.values\n",
    "y = CLUSTER_ID.values\n",
    "\n",
    "BARCODE = data13k_clipped.iloc[:,1]\n",
    "\n"
   ]
  },
  {
   "cell_type": "code",
   "execution_count": 19,
   "metadata": {},
   "outputs": [
    {
     "data": {
      "text/plain": [
       "True"
      ]
     },
     "execution_count": 19,
     "metadata": {},
     "output_type": "execute_result"
    }
   ],
   "source": [
    "# compare CELL_NAME and BARCODE\n",
    "barcodes = np.asarray(BARCODE[:].index)\n",
    "cellnames = CELL_NAME.values[1:]\n",
    "np.array_equal(barcodes,cellnames)"
   ]
  },
  {
   "cell_type": "code",
   "execution_count": 19,
   "metadata": {},
   "outputs": [
    {
     "data": {
      "text/plain": [
       "\"start = time.time()\\nX_tsne = TSNE(learning_rate=100)\\n\\nX_tsne = X_tsne.fit_transform(X)      # cant do tSNE with data this large\\ntime_elapsed = time.time() - start\\nprint(time_elapsed//60,time_elapsed%60)\\n\\nfig, ax = plt.subplots()\\nfigure(figsize=(100, 100))\\n#subplot(121)\\nax.set(xlabel='t-SNE 1', ylabel='t_SNE 2',title='t-SNE: 1078 cells with 10 subtypes')\\nax.legend(y)\\nax.scatter(X_tsne[:, 0], X_tsne[:, 1], c=y)\""
      ]
     },
     "execution_count": 19,
     "metadata": {},
     "output_type": "execute_result"
    }
   ],
   "source": [
    "'''start = time.time()\n",
    "X_tsne = TSNE(learning_rate=100)\n",
    "\n",
    "X_tsne = X_tsne.fit_transform(X)      # cant do tSNE with data this large\n",
    "time_elapsed = time.time() - start\n",
    "print(time_elapsed//60,time_elapsed%60)\n",
    "\n",
    "fig, ax = plt.subplots()\n",
    "figure(figsize=(100, 100))\n",
    "#subplot(121)\n",
    "ax.set(xlabel='t-SNE 1', ylabel='t_SNE 2',title='t-SNE: 1078 cells with 10 subtypes')\n",
    "ax.legend(y)\n",
    "ax.scatter(X_tsne[:, 0], X_tsne[:, 1], c=y)'''\n",
    "\n"
   ]
  },
  {
   "cell_type": "code",
   "execution_count": 23,
   "metadata": {},
   "outputs": [
    {
     "name": "stdout",
     "output_type": "stream",
     "text": [
      "38.17389488220215\n"
     ]
    }
   ],
   "source": [
    "# PCA 13,313\n",
    "start = time.time()\n",
    "pca = PCA(n_components=2, svd_solver='randomized') # use 'auto' not 'full' svd_solver, this will use the \n",
    "pca_array = pca.fit_transform(X)             # more efficient 'randomized' solver \n",
    "time_elapsed = time.time() - start\n",
    "print(time_elapsed)\n",
    "\n",
    "\n"
   ]
  },
  {
   "cell_type": "code",
   "execution_count": 26,
   "metadata": {},
   "outputs": [
    {
     "data": {
      "text/plain": [
       "<matplotlib.collections.PathCollection at 0x1e900b390>"
      ]
     },
     "execution_count": 26,
     "metadata": {},
     "output_type": "execute_result"
    },
    {
     "data": {
      "image/png": "[encoded data removed]",
      "text/plain": [
       "<Figure size 432x288 with 1 Axes>"
      ]
     },
     "metadata": {},
     "output_type": "display_data"
    },
    {
     "data": {
      "text/plain": [
       "<Figure size 720x720 with 0 Axes>"
      ]
     },
     "metadata": {},
     "output_type": "display_data"
    }
   ],
   "source": [
    "fig, ax = plt.subplots()\n",
    "figure(figsize=(10, 10))\n",
    "ax.set(xlabel='PCA 1', ylabel='PCA 2',title='PCA: 13,313 cells with 40? subtypes/cluster')\n",
    "ax.legend(y)\n",
    "ax.scatter(pca_array[:, 0], pca_array[:, 1], cmap=y)"
   ]
  },
  {
   "cell_type": "code",
   "execution_count": 27,
   "metadata": {},
   "outputs": [
    {
     "data": {
      "text/plain": [
       "array(['9', '7', '9', ..., '1', '11', '2'], dtype=object)"
      ]
     },
     "execution_count": 27,
     "metadata": {},
     "output_type": "execute_result"
    }
   ],
   "source": [
    "y"
   ]
  },
  {
   "cell_type": "code",
   "execution_count": null,
   "metadata": {},
   "outputs": [],
   "source": []
  }
 ],
 "metadata": {
  "kernelspec": {
   "display_name": "Python 3",
   "language": "python",
   "name": "python3"
  },
  "language_info": {
   "codemirror_mode": {
    "name": "ipython",
    "version": 3
   },
   "file_extension": ".py",
   "mimetype": "text/x-python",
   "name": "python",
   "nbconvert_exporter": "python",
   "pygments_lexer": "ipython3",
   "version": "3.6.4"
  }
 },
 "nbformat": 4,
 "nbformat_minor": 2
}
