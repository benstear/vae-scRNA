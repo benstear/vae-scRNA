{
 "cells": [
  {
   "cell_type": "code",
   "execution_count": 1,
   "metadata": {},
   "outputs": [
    {
     "name": "stderr",
     "output_type": "stream",
     "text": [
      "/Users/dawnstear/desktop/tensorflow_update/lib/python3.6/importlib/_bootstrap.py:219: RuntimeWarning: numpy.dtype size changed, may indicate binary incompatibility. Expected 96, got 88\n",
      "  return f(*args, **kwds)\n",
      "/Users/dawnstear/desktop/tensorflow_update/lib/python3.6/importlib/_bootstrap.py:219: RuntimeWarning: numpy.dtype size changed, may indicate binary incompatibility. Expected 96, got 88\n",
      "  return f(*args, **kwds)\n"
     ]
    }
   ],
   "source": [
    "# t-SNE and PCA plot metric and times\n",
    "from sklearn.manifold import TSNE\n",
    "from sklearn.decomposition import PCA\n",
    "import pandas as pd\n",
    "import numpy as np\n",
    "from matplotlib.pyplot import scatter, figure, subplot, savefig\n",
    "import matplotlib.pyplot as plt\n",
    "from sklearn.utils import shuffle\n",
    "import time\n",
    "import os\n"
   ]
  },
  {
   "cell_type": "code",
   "execution_count": null,
   "metadata": {},
   "outputs": [],
   "source": [
    "### Data Set: 13,313 single nucleus mouse brain \n",
    "# https://portals.broadinstitute.org/single_cell/study/dronc-seq-single-nucleus-rna-seq-on-mouse-archived-brain#study-download\n",
    "t = time.time()\n",
    "try: data13k, labels13k\n",
    "except:\n",
    "    data13k  =  pd.read_csv('/Users/dawnstear/desktop/Mid_Atlantic_Poster/sc_data/n_13313_singlenuc/Mouse_Processed_GTEx_Data.DGE.log-UMI-Counts.txt',sep='\\t')  \n",
    "    data13k = data13k.T\n",
    "    labels13k  =  pd.read_csv('/Users/dawnstear/desktop/Mid_Atlantic_Poster/sc_data/n_13313_singlenuc/metadata_singleNuc_13k.txt',sep='\\t')\n",
    "\n",
    "print(time.time()-t)\n",
    "print(np.shape(data13k))\n",
    "print(np.shape(labels13k))\n",
    "#data13k.values[0:3][0:3] # includes gene names\n",
    "data13k_clipped = data13k.iloc[1:] # clip them off the top\n",
    "print(data13k_clipped.values[0:5][0:5])"
   ]
  },
  {
   "cell_type": "code",
   "execution_count": 15,
   "metadata": {},
   "outputs": [
    {
     "name": "stdout",
     "output_type": "stream",
     "text": [
      "230421404\n"
     ]
    }
   ],
   "source": [
    "X = data13k_clipped.values\n",
    "print(np.size(X))"
   ]
  },
  {
   "cell_type": "code",
   "execution_count": 16,
   "metadata": {},
   "outputs": [
    {
     "data": {
      "text/html": [
       "<div>\n",
       "<style scoped>\n",
       "    .dataframe tbody tr th:only-of-type {\n",
       "        vertical-align: middle;\n",
       "    }\n",
       "\n",
       "    .dataframe tbody tr th {\n",
       "        vertical-align: top;\n",
       "    }\n",
       "\n",
       "    .dataframe thead th {\n",
       "        text-align: right;\n",
       "    }\n",
       "</style>\n",
       "<table border=\"1\" class=\"dataframe\">\n",
       "  <thead>\n",
       "    <tr style=\"text-align: right;\">\n",
       "      <th></th>\n",
       "      <th>NAME</th>\n",
       "      <th>Cluster</th>\n",
       "      <th>ClusterID</th>\n",
       "      <th>Genes</th>\n",
       "      <th>UMIs</th>\n",
       "    </tr>\n",
       "  </thead>\n",
       "  <tbody>\n",
       "    <tr>\n",
       "      <th>1</th>\n",
       "      <td>0-1a_TACTGGTCCCCC</td>\n",
       "      <td>exPFC9</td>\n",
       "      <td>9</td>\n",
       "      <td>7658</td>\n",
       "      <td>28160</td>\n",
       "    </tr>\n",
       "    <tr>\n",
       "      <th>2</th>\n",
       "      <td>0-1a_AAGTCTTACACT</td>\n",
       "      <td>exPFC9</td>\n",
       "      <td>9</td>\n",
       "      <td>8310</td>\n",
       "      <td>32107</td>\n",
       "    </tr>\n",
       "    <tr>\n",
       "      <th>3</th>\n",
       "      <td>0-1a_CGTAGTTATTAG</td>\n",
       "      <td>exPFC7</td>\n",
       "      <td>7</td>\n",
       "      <td>6204</td>\n",
       "      <td>17010</td>\n",
       "    </tr>\n",
       "    <tr>\n",
       "      <th>4</th>\n",
       "      <td>0-1a_TGAATTTTTTCT</td>\n",
       "      <td>exPFC9</td>\n",
       "      <td>9</td>\n",
       "      <td>5708</td>\n",
       "      <td>15812</td>\n",
       "    </tr>\n",
       "  </tbody>\n",
       "</table>\n",
       "</div>"
      ],
      "text/plain": [
       "                NAME Cluster ClusterID Genes   UMIs\n",
       "1  0-1a_TACTGGTCCCCC  exPFC9         9  7658  28160\n",
       "2  0-1a_AAGTCTTACACT  exPFC9         9  8310  32107\n",
       "3  0-1a_CGTAGTTATTAG  exPFC7         7  6204  17010\n",
       "4  0-1a_TGAATTTTTTCT  exPFC9         9  5708  15812"
      ]
     },
     "execution_count": 16,
     "metadata": {},
     "output_type": "execute_result"
    }
   ],
   "source": [
    "labels13k = labels13k.iloc[1:]  # drop first row, info not needed\n",
    "labels13k[0:5][0:4]"
   ]
  },
  {
   "cell_type": "code",
   "execution_count": 18,
   "metadata": {},
   "outputs": [
    {
     "data": {
      "text/plain": [
       "1    0-1a_TACTGGTCCCCC\n",
       "2    0-1a_AAGTCTTACACT\n",
       "3    0-1a_CGTAGTTATTAG\n",
       "4    0-1a_TGAATTTTTTCT\n",
       "5    0-1a_TTTCTAATCGGA\n",
       "Name: NAME, dtype: object"
      ]
     },
     "execution_count": 18,
     "metadata": {},
     "output_type": "execute_result"
    }
   ],
   "source": [
    "CELL_NAME = labels13k['NAME']   # check that cell UMI's match data UMI col\n",
    "CLUSTER_NAME =labels13k['Cluster']\n",
    "CLUSTER_ID = labels13k['ClusterID']\n",
    "CELL_NAME[0:5]\n",
    "#if CELL_NAME == X[:][0]:\n",
    "#    print('equal')"
   ]
  },
  {
   "cell_type": "code",
   "execution_count": 19,
   "metadata": {},
   "outputs": [
    {
     "data": {
      "text/plain": [
       "\"start = time.time()\\nX_tsne = TSNE(learning_rate=100)\\n\\nX_tsne = X_tsne.fit_transform(X)      # cant do tSNE with data this large\\ntime_elapsed = time.time() - start\\nprint(time_elapsed//60,time_elapsed%60)\\n\\nfig, ax = plt.subplots()\\nfigure(figsize=(100, 100))\\n#subplot(121)\\nax.set(xlabel='t-SNE 1', ylabel='t_SNE 2',title='t-SNE: 1078 cells with 10 subtypes')\\nax.legend(y)\\nax.scatter(X_tsne[:, 0], X_tsne[:, 1], c=y)\""
      ]
     },
     "execution_count": 19,
     "metadata": {},
     "output_type": "execute_result"
    }
   ],
   "source": [
    "'''start = time.time()\n",
    "X_tsne = TSNE(learning_rate=100)\n",
    "\n",
    "X_tsne = X_tsne.fit_transform(X)      # cant do tSNE with data this large\n",
    "time_elapsed = time.time() - start\n",
    "print(time_elapsed//60,time_elapsed%60)\n",
    "\n",
    "fig, ax = plt.subplots()\n",
    "figure(figsize=(100, 100))\n",
    "#subplot(121)\n",
    "ax.set(xlabel='t-SNE 1', ylabel='t_SNE 2',title='t-SNE: 1078 cells with 10 subtypes')\n",
    "ax.legend(y)\n",
    "ax.scatter(X_tsne[:, 0], X_tsne[:, 1], c=y)'''\n",
    "\n"
   ]
  },
  {
   "cell_type": "code",
   "execution_count": null,
   "metadata": {},
   "outputs": [],
   "source": [
    "# PCA 13,313\n",
    "start = time.time()\n",
    "pca = PCA(n_components=8, svd_solver='randomized') # use 'auto' not 'full' svd_solver, this will use the \n",
    "pca_array = pca.fit_transform(X)             # more efficient 'randomized' solver \n",
    "time_elapsed = time.time() - start\n",
    "print(time_elapsed)\n",
    "\n",
    "\n"
   ]
  },
  {
   "cell_type": "code",
   "execution_count": null,
   "metadata": {},
   "outputs": [],
   "source": [
    "fig, ax = plt.subplots()\n",
    "figure(figsize=(10, 10))\n",
    "ax.set(xlabel='PCA 1', ylabel='PCA 2',title='PCA: 1078 cells with 10 subtypes')\n",
    "ax.legend(y)\n",
    "ax.scatter(pca_array[:, 0], pca_array[:, 1], c=y)"
   ]
  },
  {
   "cell_type": "code",
   "execution_count": null,
   "metadata": {},
   "outputs": [],
   "source": []
  }
 ],
 "metadata": {
  "kernelspec": {
   "display_name": "Python 3",
   "language": "python",
   "name": "python3"
  },
  "language_info": {
   "codemirror_mode": {
    "name": "ipython",
    "version": 3
   },
   "file_extension": ".py",
   "mimetype": "text/x-python",
   "name": "python",
   "nbconvert_exporter": "python",
   "pygments_lexer": "ipython3",
   "version": "3.6.4"
  }
 },
 "nbformat": 4,
 "nbformat_minor": 2
}
