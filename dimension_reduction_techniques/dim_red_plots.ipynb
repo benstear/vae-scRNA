{
 "cells": [
  {
   "cell_type": "code",
   "execution_count": 1,
   "metadata": {},
   "outputs": [],
   "source": [
    "def tSNE_plotter(X,y):\n",
    "    start = time.time()\n",
    "    X_tsne = TSNE(learning_rate=100)\n",
    "\n",
    "    X_tsne = X_tsne.fit_transform(X)\n",
    "    time_elapsed = time.time() - start\n",
    "    print(time_elapsed//60,time_elapsed%60)\n",
    "    \n",
    "    fig, ax = plt.subplots()\n",
    "    figure(figsize=(100, 100))\n",
    "    #subplot(121)\n",
    "    ax.set(xlabel='t-SNE 1', ylabel='t_SNE 2',title='t-SNE: 1078 cells with 10 subtypes')\n",
    "    ax.legend(y)\n",
    "    ax.scatter(X_tsne[:, 0], X_tsne[:, 1], c=y)\n",
    "    \n",
    "    return\n",
    "    "
   ]
  },
  {
   "cell_type": "code",
   "execution_count": 2,
   "metadata": {},
   "outputs": [],
   "source": [
    "def PCA_plotter(X,y):\n",
    "    start = time.time()\n",
    "    pca = PCA(n_components=2, svd_solver='randomized')\n",
    "    pca_array = pca.fit_transform(X) \n",
    "    time_elapsed = time.time() - start\n",
    "    print(time_elapsed)\n",
    "    \n",
    "    fig, ax = plt.subplots()\n",
    "    figure(figsize=(10, 10))\n",
    "    ax.set(xlabel='PCA 1', ylabel='PCA 2',title='PCA: 1078 cells with 10 subtypes')\n",
    "    ax.legend(y)\n",
    "    ax.scatter(pca_array[:, 0], pca_array[:, 1], c=y)\n",
    "    \n",
    "    return\n"
   ]
  },
  {
   "cell_type": "code",
   "execution_count": null,
   "metadata": {},
   "outputs": [],
   "source": [
    "def LLE_plotter(X,y):\n",
    "    "
   ]
  }
 ],
 "metadata": {
  "kernelspec": {
   "display_name": "Python 3",
   "language": "python",
   "name": "python3"
  },
  "language_info": {
   "codemirror_mode": {
    "name": "ipython",
    "version": 3
   },
   "file_extension": ".py",
   "mimetype": "text/x-python",
   "name": "python",
   "nbconvert_exporter": "python",
   "pygments_lexer": "ipython3",
   "version": "3.6.4"
  }
 },
 "nbformat": 4,
 "nbformat_minor": 2
}
