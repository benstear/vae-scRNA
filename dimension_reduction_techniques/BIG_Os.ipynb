{
 "cells": [
  {
   "cell_type": "code",
   "execution_count": 41,
   "metadata": {},
   "outputs": [],
   "source": [
    "import numpy as np\n",
    "import matplotlib.pyplot as plt\n",
    "from matplotlib.pyplot import figure"
   ]
  },
  {
   "cell_type": "code",
   "execution_count": 14,
   "metadata": {},
   "outputs": [],
   "source": [
    "# D: input dim/genes\n",
    "# N: cellcount\n",
    "# k: Nearest Neighhbor \n",
    "# d: output dimension\n",
    "\n",
    "D = 20000\n",
    "N = 10000\n",
    "k = 5\n",
    "d = 2"
   ]
  },
  {
   "cell_type": "code",
   "execution_count": 15,
   "metadata": {},
   "outputs": [],
   "source": [
    "\n",
    "X = np.random.rand(N,D)\n",
    "#cellcount, genecount = np.shape(X)\n",
    "#N,D = np.shape(X)\n",
    "\n",
    "\n"
   ]
  },
  {
   "cell_type": "code",
   "execution_count": 91,
   "metadata": {},
   "outputs": [],
   "source": [
    "# tSNE               ..works better if you PCA down to ~50 dims before tSNE\n",
    "# O[d*N^2]           ..use truncatedSVD for sparse matrix (no barnes-hut for sparse matrix) \n",
    "def tSNE_O(samples,genes,out_dim,k_nn):\n",
    "    N = samples\n",
    "    D = genes\n",
    "    d = out_dim\n",
    "    k = k_nn\n",
    "    tSNE_O = (d*(N**2)) # http://lvdmaaten.github.io/publications/papers/JMLR_2014.pdf\n",
    "    return tSNE_O\n",
    "\n",
    "# PCA (non kernel pca is linear only)\n",
    "#  O(D^2*N+D^3)   https://stackoverflow.com/questions/20507646/how-is-the-complexity-of-pca-ominp3-n3\n",
    "def PCA_O(samples,genes,out_dim,k_nn):\n",
    "    N = samples\n",
    "    D = genes\n",
    "    d = out_dim\n",
    "    k = k_nn    \n",
    "    PCA_O = ((D**2)*N) + D**3\n",
    "    return PCA_O\n",
    "    \n",
    "\n",
    "# Local Linear Embedding\n",
    "#  O[D*log(k)*N*log(N)] + O[D*N*k^3] + O[d*N^2]\n",
    "def LLE_O(samples,genes,out_dim,k_nn):\n",
    "    N = samples\n",
    "    D = genes\n",
    "    d = out_dim\n",
    "    k = k_nn\n",
    "    LLE_O = (D*np.log2(k)*N*np.log2(N)) + (D*N*(k**3)) + (d*(N**2))\n",
    "    return LLE_O\n",
    "\n",
    "# Iso Map\n",
    "#  O[D*log(k)*N*log(N)] + O[(N^2)*(k+log(N))] + O[d*N^2]\n",
    "def ISO_O(samples,genes,out_dim,k_nn):\n",
    "    N = samples\n",
    "    D = genes\n",
    "    d = out_dim\n",
    "    k = k_nn    \n",
    "    ISO_O = (D*np.log2(k)*N*np.log2(N)) + ((N**2)*(k+np.log2(N)) + (d*(N**2)))\n",
    "    return ISO_O\n",
    "\n",
    "# spectral embedding\n",
    "# O[D*log(k)*N*log(N)] + O[D*N*k^3] + O[d*N^2]\n",
    "def SPECTRAL_O(samples,genes,out_dim,k_nn):\n",
    "    N = samples\n",
    "    D = genes\n",
    "    d = out_dim\n",
    "    k = k_nn\n",
    "    SPECTRAL_O = (D*np.log2(k)*N*np.log2(N)) + (D*N*(k**3)) + (d*(N**2))\n",
    "    return SPECTRAL_O\n",
    "\n",
    "# Neural Network (AutoEncoder though?)\n",
    "# AE_O = ?        https://kasperfred.com/posts/computational-complexity-of-neural-networks\n",
    "# NN_O = N**6, backprop    N**3, feedforward\n",
    "# ZIFA  ,block vs norm\n",
    "# ZIFA_O = \n",
    "# NNMF (non neg matrix factorization)\n",
    "# NNMF_O = \n",
    "# MIT CSUMI     http://cb.csail.mit.edu/cb/CSUMI/CSUMI.py\n",
    "\n",
    "# UMAP (uniform manifold approximation and projection)"
   ]
  },
  {
   "cell_type": "code",
   "execution_count": 94,
   "metadata": {},
   "outputs": [
    {
     "data": {
      "image/png": "[encoded data removed]",
      "text/plain": [
       "<Figure size 576x288 with 1 Axes>"
      ]
     },
     "metadata": {},
     "output_type": "display_data"
    }
   ],
   "source": [
    "N = [10,50,100,500,1000,3000,5000,7000,10000,20000,40000] # ->> 1,000,000\n",
    "D = [10,50,100,500,1000,3000,5000,7000,10000,20000,40000]\n",
    "\n",
    "#Y_matrix_size = N*D\n",
    "#X_time = 3\n",
    "\n",
    "\n",
    "tsne_o_vec = []\n",
    "for i in range(len(N)):\n",
    "    tsne_o_vec.append(tSNE_O(N[i],D[i],d,k))\n",
    "\n",
    "\n",
    "pca_o_vec = []\n",
    "for i in range(len(N)):\n",
    "    pca_o_vec.append(PCA_O(N[i],D[i],d,k))\n",
    "    \n",
    "lle_o_vec = []\n",
    "for i in range(len(N)):\n",
    "    lle_o_vec.append(LLE_O(N[i],D[i],d,k))\n",
    "\n",
    "spectral_o_vec = []\n",
    "for i in range(len(N)):\n",
    "    spectral_o_vec.append(SPECTRAL_O(N[i],D[i],d,k))\n",
    "    \n",
    "    \n",
    "iso_o_vec = [] \n",
    "for i in range(len(N)):\n",
    "    iso_o_vec.append(ISO_O(N[i],D[i],d,k))\n",
    "    \n",
    "\n",
    "matrix_size = []   \n",
    "N = [10,50,100,500,1000,5000,10000,50000,100000,500000,1000000]\n",
    "D = [10,50,100,500,1000,3000,5000,7000,10000,20000,40000]\n",
    "for i in range(len(N)):\n",
    "    matrix_size.append(N[i]*D[i])\n",
    "    \n",
    "x = matrix_size    \n",
    "    \n",
    "    \n",
    "def num_to_time(num):\n",
    "    #sec = 1\n",
    "    #min = sec*60\n",
    "    #hr = min*60\n",
    "    #day = hr*24\n",
    "    #week = day*7\n",
    "    #month = week*4 + (2*day)\n",
    "    #year = month*12\n",
    "    day = time // (24 * 3600)\n",
    "    time = time % (24 * 3600)\n",
    "    hour = time // 3600\n",
    "    time %= 3600\n",
    "    minutes = time // 60\n",
    "    time %= 60\n",
    "    seconds = time\n",
    "    print(\"d:h:m:s-> %d:%d:%d:%d\" % (day, hour, minutes, seconds))\n",
    "    time_ = [day, hour, minutes, seconds]\n",
    "    return time_\n",
    "\n",
    "fig, ax = plt.subplots(figsize=(8,4))\n",
    "plt.plot(x,tsne_o_vec) \n",
    "plt.plot(x,pca_o_vec)\n",
    "plt.plot(x, lle_o_vec)\n",
    "plt.plot(x, iso_o_vec)\n",
    "plt.plot(x, spectral_o_vec)\n",
    "ax.set(xlabel='Size of Data Matrix (N*D)', ylabel='Time',title='Big-O of Dimension Reduction Algorithms') \n",
    "ax.grid()\n",
    "ax.legend(['tsne','pca','lle','isomap','spectral embedding'])\n",
    "#ax.set_xlim([0,1e10])\n",
    "#ax.set_ylim([0,1e13])\n",
    "ax.autoscale(1)"
   ]
  },
  {
   "cell_type": "code",
   "execution_count": 9,
   "metadata": {},
   "outputs": [
    {
     "data": {
      "text/plain": [
       "4.605170185988092"
      ]
     },
     "execution_count": 9,
     "metadata": {},
     "output_type": "execute_result"
    }
   ],
   "source": [
    "# use fake data for pca and tsne and "
   ]
  },
  {
   "cell_type": "code",
   "execution_count": 13,
   "metadata": {},
   "outputs": [],
   "source": []
  },
  {
   "cell_type": "code",
   "execution_count": null,
   "metadata": {},
   "outputs": [],
   "source": []
  }
 ],
 "metadata": {
  "kernelspec": {
   "display_name": "Python 3",
   "language": "python",
   "name": "python3"
  },
  "language_info": {
   "codemirror_mode": {
    "name": "ipython",
    "version": 3
   },
   "file_extension": ".py",
   "mimetype": "text/x-python",
   "name": "python",
   "nbconvert_exporter": "python",
   "pygments_lexer": "ipython3",
   "version": "3.6.4"
  }
 },
 "nbformat": 4,
 "nbformat_minor": 2
}
